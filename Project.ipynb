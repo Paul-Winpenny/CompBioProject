{
 "cells": [
  {
   "cell_type": "code",
   "execution_count": null,
   "metadata": {},
   "outputs": [],
   "source": [
    "def parse_data(file_path):\n",
    "    sequences = []\n",
    "    labels = []\n",
    "    current_seq = []\n",
    "    current_label = []\n",
    "\n",
    "    with open(file_path, 'r') as file:\n",
    "        for line in file:\n",
    "            if line.strip() == \"<>\":\n",
    "                if current_seq and current_label:\n",
    "                    sequences.append(current_seq)\n",
    "                    labels.append(current_label)\n",
    "                    current_seq = []\n",
    "                    current_label = []\n",
    "            elif line.strip() == \"<end>\":\n",
    "                break\n",
    "            else:\n",
    "                parts = line.strip().split()\n",
    "                if len(parts) == 2:\n",
    "                    aa, struct = parts\n",
    "                    current_seq.append(aa)\n",
    "                    current_label.append(struct)\n",
    "\n",
    "    return sequences, labels\n",
    "\n",
    "seq,labels = parse_data(\"E:\\CompBioProject\\protein-secondary-structure.test.txt\")\n",
    "print(seq)"
   ]
  }
 ],
 "metadata": {
  "language_info": {
   "name": "python"
  }
 },
 "nbformat": 4,
 "nbformat_minor": 2
}
