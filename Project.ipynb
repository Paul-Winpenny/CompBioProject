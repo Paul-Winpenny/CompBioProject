{
 "cells": [
  {
   "cell_type": "code",
   "execution_count": null,
   "metadata": {},
   "outputs": [],
   "source": [
    "def parse_data(file_path):\n",
    "    sequences = []\n",
    "    labels = []\n",
    "    current_seq = []\n",
    "    current_label = []\n",
    "\n",
    "    with open(file_path, 'r') as file:\n",
    "        for line in file:\n",
    "            if line.strip() == \"<>\":\n",
    "                if current_seq and current_label:\n",
    "                    sequences.append(current_seq)\n",
    "                    labels.append(current_label)\n",
    "                    current_seq = []\n",
    "                    current_label = []\n",
    "            elif line.strip() == \"<end>\":\n",
    "                break\n",
    "            else:\n",
    "                parts = line.strip().split()\n",
    "                if len(parts) == 2:\n",
    "                    aa, struct = parts\n",
    "                    current_seq.append(aa)\n",
    "                    current_label.append(struct)\n",
    "\n",
    "    return sequences, labels\n",
    "\n",
    "def encode_seqeuences(sequences):\n",
    "    amino_acid_mapping = {\n",
    "    'A': 1,  'R': 2,  'N': 3,  'D': 4,  'C': 5,\n",
    "    'Q': 6,  'E': 7,  'G': 8,  'H': 9,  'I': 10,\n",
    "    'L': 11, 'K': 12, 'M': 13, 'F': 14, 'P': 15,\n",
    "    'S': 16, 'T': 17, 'W': 18, 'Y': 19, 'V': 20\n",
    "    }\n",
    "    encoded_seqs = []\n",
    "    for sequence in sequences:\n",
    "        # encode the sequence\n",
    "        encoded_seq = [amino_acid_mapping[aa] for aa in sequence]\n",
    "        encoded_seqs.append(encoded_seq)\n",
    "    return encoded_seqs\n",
    "\n",
    "    \n",
    "seq,labels = parse_data(\"E:\\CompBioProject\\protein-secondary-structure.test.txt\")\n",
    "print(seq)"
   ]
  }
 ],
 "metadata": {
  "language_info": {
   "name": "python"
  }
 },
 "nbformat": 4,
 "nbformat_minor": 2
}
